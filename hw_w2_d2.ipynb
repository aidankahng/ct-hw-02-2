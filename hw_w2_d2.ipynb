{
 "cells": [
  {
   "cell_type": "markdown",
   "id": "ea30cb2d",
   "metadata": {},
   "source": [
    "# Week 2 Day 2 HW Exercises"
   ]
  },
  {
   "cell_type": "markdown",
   "id": "49ee85f7",
   "metadata": {},
   "source": [
    "## Exercise 1 <br>\n",
    "<p>Write a program that takes in a user input and prints out how many vowels are in the response</p>"
   ]
  },
  {
   "cell_type": "code",
   "execution_count": null,
   "id": "c89440f5",
   "metadata": {},
   "outputs": [],
   "source": [
    "# \"Example\" -> 3\n",
    "# \"Hello World\" -> 3\n",
    "# \"Brian\" -> 2\n",
    "# \"This is a longer response\" -> 8\n",
    "def count_vowels(input_string):\n",
    "    vowels = ['a', 'e', 'i', 'o', 'u'] #List of vowels\n",
    "    input_vowels = [s for s in input_string.lower() if vowels.count(s)] #List comp to extract vowels\n",
    "    # if/else to print flavor text concerning input\n",
    "    if len(input_vowels) == 1:\n",
    "        print(f\"Your input had %s vowel.\" % (len(input_vowels)))\n",
    "        print(f\"The vowel is: %s\" % (input_vowels))\n",
    "    else:\n",
    "        print(f\"Your input had %s vowels.\" % (len(input_vowels)))\n",
    "        print(f\"The vowels are: %s\" % (input_vowels))\n",
    "    return len(input_vowels) # returns the number of vowels found\n",
    "\n",
    "count_vowels(input(\"Please input a string to count vowels:\"))"
   ]
  },
  {
   "cell_type": "markdown",
   "id": "2d36c357",
   "metadata": {},
   "source": [
    "### Generalized Count Matching Letters\n",
    "<p>The following program allows users to input letters to match the second input against</p>"
   ]
  },
  {
   "cell_type": "code",
   "execution_count": null,
   "id": "aae91232",
   "metadata": {},
   "outputs": [],
   "source": [
    "# NOTE: numbers, spaces and case are ignored \n",
    "def count_matching(to_compare, input_string):\n",
    "    compare = []\n",
    "    for character in to_compare.lower():\n",
    "        if character.isalpha():\n",
    "            compare.append(character)\n",
    "    input_matches = [s for s in input_string.lower() if compare.count(s)] #List comp to extract matches\n",
    "    # if/else to print flavor text concerning input\n",
    "    if not len(input_matches):\n",
    "        print(\"No matches found.\")\n",
    "    elif len(input_matches) == 1:\n",
    "        print(f\"Your input had %s match.\" % (len(input_matches)))\n",
    "        print(f\"The match is: %s\" % (input_matches))\n",
    "    else:\n",
    "        print(f\"Your input had %s matches.\" % (len(input_matches)))\n",
    "        print(f\"The matches are: %s\" % (input_matches))\n",
    "    return len(input_matches) # returns the number of matches found\n",
    "\n",
    "count_matching(input(\"Input characters (a-z) to match against: \"), input(\"Please input a string to count matches: \"))"
   ]
  },
  {
   "cell_type": "markdown",
   "id": "e3904fe0",
   "metadata": {},
   "source": [
    "## Exercise 2 <br>\n",
    "<p>Create a list of names of 4 letters or more and capitalize each name</p>\n",
    "<p>*Double Bonus* Do it using list comprehension</p>"
   ]
  },
  {
   "cell_type": "code",
   "execution_count": null,
   "id": "f8d327fd",
   "metadata": {},
   "outputs": [],
   "source": [
    "names1 = ['connor', 'connor', 'bob', 'connor', 'evan', 'max', 'evan', 'bob', 'kevin']\n",
    "print([s.title() for s in names1 if len(s) > 3])"
   ]
  },
  {
   "cell_type": "code",
   "execution_count": null,
   "id": "652f7cc3",
   "metadata": {},
   "outputs": [],
   "source": [
    "# Bonus Challenge (handling non string elements)\n",
    "names2 = ['connor', 'connor', 'bob', 'connor', 'evan', 'max', 'evan', 2, 2, 2, 3, 3, 4, 'bob', 'kevin']\n",
    "print([n for n in [s.title() for s in names2 if isinstance(s, str)] if len(n) > 3])"
   ]
  },
  {
   "cell_type": "code",
   "execution_count": null,
   "id": "7ac54def",
   "metadata": {},
   "outputs": [],
   "source": [
    "# Same but removing duplicates for names1\n",
    "unique_names1 = []\n",
    "[unique_names1.append(x.title()) for x in names1 if x.title() not in unique_names1 and len(x) > 3]\n",
    "print(unique_names1)"
   ]
  },
  {
   "cell_type": "code",
   "execution_count": null,
   "id": "4e5f75d5",
   "metadata": {},
   "outputs": [],
   "source": [
    "# Removing duplicates for names2\n",
    "unique_names2 = []\n",
    "[unique_names2.append(x) for x in [n for n in [s.title() for s in names2 if isinstance(s, str)] if len(n) > 3] if x not in unique_names2]\n",
    "print(unique_names2)"
   ]
  },
  {
   "cell_type": "code",
   "execution_count": null,
   "id": "25982cc8",
   "metadata": {},
   "outputs": [],
   "source": []
  }
 ],
 "metadata": {
  "kernelspec": {
   "display_name": "Python 3 (ipykernel)",
   "language": "python",
   "name": "python3"
  },
  "language_info": {
   "codemirror_mode": {
    "name": "ipython",
    "version": 3
   },
   "file_extension": ".py",
   "mimetype": "text/x-python",
   "name": "python",
   "nbconvert_exporter": "python",
   "pygments_lexer": "ipython3",
   "version": "3.11.5"
  }
 },
 "nbformat": 4,
 "nbformat_minor": 5
}
